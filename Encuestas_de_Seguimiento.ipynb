{
  "cells": [
    {
      "cell_type": "markdown",
      "metadata": {
        "id": "view-in-github",
        "colab_type": "text"
      },
      "source": [
        "<a href=\"https://colab.research.google.com/github/luisfelipemh/aprende_institute/blob/main/Encuestas_de_Seguimiento.ipynb\" target=\"_parent\"><img src=\"https://colab.research.google.com/assets/colab-badge.svg\" alt=\"Open In Colab\"/></a>"
      ]
    },
    {
      "cell_type": "code",
      "execution_count": 1,
      "metadata": {
        "colab": {
          "base_uri": "https://localhost:8080/"
        },
        "id": "eRjZgMuTlE0_",
        "outputId": "5b95ee54-b0e2-488b-966b-f2d99dcac060"
      },
      "outputs": [
        {
          "output_type": "stream",
          "name": "stdout",
          "text": [
            "Mounted at /content/drive\n"
          ]
        }
      ],
      "source": [
        "import pandas as pd\n",
        "import warnings\n",
        "warnings.filterwarnings('ignore')\n",
        "from datetime import timedelta\n",
        "import matplotlib.pyplot as plt\n",
        "import seaborn as sns, numpy as np\n",
        "import os\n",
        "import re\n",
        "from datetime import date, time, datetime\n",
        "import seaborn as sns\n",
        "import matplotlib as mpl\n",
        "import matplotlib.pyplot as plt\n",
        "\n",
        "#Acceso al drive\n",
        "from google.colab import drive\n",
        "drive.mount('/content/drive')"
      ]
    },
    {
      "cell_type": "code",
      "execution_count": 2,
      "metadata": {
        "id": "ViIUQhSulm7t"
      },
      "outputs": [],
      "source": [
        "Encuestas = pd.read_csv('/content/drive/MyDrive/Encuestas/vw_surveymonkey.csv',sep=',', encoding='ISO-8859-1')"
      ]
    },
    {
      "cell_type": "code",
      "source": [
        "Encuestas=Encuestas[Encuestas['title'].isin(['Encuesta para graduados 2021', 'Seguimiento graduados 60d',\n",
        "       'Monitoreo de Impacto - 3 Semanas',\n",
        "       'Monitoreo de Impacto - 6 Semanas', 'Seguimiento graduados 90d'])]"
      ],
      "metadata": {
        "id": "4VU8H16CN6hQ"
      },
      "execution_count": 3,
      "outputs": []
    },
    {
      "cell_type": "code",
      "source": [
        "Encuestas=Encuestas[Encuestas['type']!='Open question']"
      ],
      "metadata": {
        "id": "f26boaF7SW__"
      },
      "execution_count": 4,
      "outputs": []
    },
    {
      "cell_type": "code",
      "execution_count": 5,
      "metadata": {
        "colab": {
          "base_uri": "https://localhost:8080/"
        },
        "id": "L1Tv8YETA5xk",
        "outputId": "415b2fb3-fdba-427b-fc03-36a1af3da5c1"
      },
      "outputs": [
        {
          "output_type": "execute_result",
          "data": {
            "text/plain": [
              "array(['Seguimiento graduados 90d', 'Seguimiento graduados 60d',\n",
              "       'Encuesta para graduados 2021', 'Monitoreo de Impacto - 3 Semanas',\n",
              "       'Monitoreo de Impacto - 6 Semanas'], dtype=object)"
            ]
          },
          "metadata": {},
          "execution_count": 5
        }
      ],
      "source": [
        "#NO INCLUIR EN EL CODIGO\n",
        "Encuestas['title'].unique()"
      ]
    },
    {
      "cell_type": "code",
      "execution_count": 6,
      "metadata": {
        "id": "Nhgma2CZyMK4"
      },
      "outputs": [],
      "source": [
        "Encuestas=Encuestas[['salesforce_contact_id','title','question_id','question_text','response_text']]"
      ]
    },
    {
      "cell_type": "code",
      "execution_count": 7,
      "metadata": {
        "id": "87vGQokD8uz7"
      },
      "outputs": [],
      "source": [
        "Encuestas=Encuestas[Encuestas['salesforce_contact_id']!='Undefined']"
      ]
    },
    {
      "cell_type": "markdown",
      "metadata": {
        "id": "kwuwgy_gCIc5"
      },
      "source": [
        "#Quitando preguntas abiertas y respuestas con un length menor o igual a 5"
      ]
    },
    {
      "cell_type": "code",
      "execution_count": 8,
      "metadata": {
        "id": "PspEC8axAS94"
      },
      "outputs": [],
      "source": [
        "Encuestas=Encuestas[~Encuestas['question_text'].str.contains('especifique')]"
      ]
    },
    {
      "cell_type": "code",
      "execution_count": 9,
      "metadata": {
        "id": "MfDpT_YJBDG3"
      },
      "outputs": [],
      "source": [
        "Encuestas=Encuestas[Encuestas['response_text'].str.len()>=5]"
      ]
    },
    {
      "cell_type": "markdown",
      "metadata": {
        "id": "ZJn7nqIaCNdo"
      },
      "source": [
        "#Mirando las preguntas de cada encuesta para saber que mas podemos eliminar"
      ]
    },
    {
      "cell_type": "code",
      "execution_count": 10,
      "metadata": {
        "id": "lxdweiXRE0E2"
      },
      "outputs": [],
      "source": [
        "#FILTRO\n",
        "Encuestas=Encuestas[(Encuestas['question_text']!='<strong><span style=\"color: #000080;\">Por favor compártenos ¿en qué áreas o aspectos estudiar en Aprende ha mejorado tu calidad de vida?</span></strong>')]"
      ]
    },
    {
      "cell_type": "code",
      "execution_count": 11,
      "metadata": {
        "id": "bWlADnKEFKHf"
      },
      "outputs": [],
      "source": [
        "#FILTRO\n",
        "Encuestas=Encuestas[(Encuestas['question_text']!='<strong><span style=\"color: #000080;\">Por favor compártenos ¿en qué áreas o aspectos estudiar en Aprende ha mejorado tu calidad de vida?</span></strong>')]"
      ]
    },
    {
      "cell_type": "code",
      "execution_count": 12,
      "metadata": {
        "id": "0vgdqcWwGsWE"
      },
      "outputs": [],
      "source": [
        "#FILTRO\n",
        "Encuestas=Encuestas[(Encuestas['question_text']!='<span style=\"color: #000080;\"><strong>¿Cuál fue tu experiencia con las actividades prácticas? Compártenos todos lo que te gustó y no te gustó</strong></span>')]"
      ]
    },
    {
      "cell_type": "markdown",
      "metadata": {
        "id": "EX3I7mq2INn9"
      },
      "source": [
        "#Validacion por encuesta para certificar que nos estamos quedando con preguntas de seleccion multiple"
      ]
    },
    {
      "cell_type": "code",
      "execution_count": 13,
      "metadata": {
        "colab": {
          "base_uri": "https://localhost:8080/"
        },
        "id": "DGRZh-UQGzU5",
        "outputId": "cb5f0973-e721-4ae7-fc20-a0bd2daf324c"
      },
      "outputs": [
        {
          "output_type": "execute_result",
          "data": {
            "text/plain": [
              "array(['AdquirÃ\\xad conocimientos/habilidades para abrir mi empresa o negocio en un futuro',\n",
              "       'Contenido/Temario', 'Hobby / Pasatiempo',\n",
              "       'Me diÃ³ mÃ¡s confianza para emprenderÂ\\xa0',\n",
              "       'RetroalimentaciÃ³n de los docentes',\n",
              "       'Acceso de por vida al material (videos y descargables) del diplomado que cursaste',\n",
              "       'Complementar mi formaciÃ³n/profesiÃ³n',\n",
              "       'Desarrollo de mi carrera profesional o laboral',\n",
              "       'Recursos educativos: videos, descargables, audios, etc.',\n",
              "       'Actividades prÃ¡cticas',\n",
              "       'Clases grabadas en video, sobre temas de tu interÃ©s',\n",
              "       'Hacer crecer mi negocio',\n",
              "       'IncrementÃ© los ingresos de mi empresa o negocio actual',\n",
              "       'MejorÃ© mis servicios y/o productos', 'Regular',\n",
              "       'Me ha hecho sentir mÃ¡s confiado(a) en mis habilidades',\n",
              "       'Clases en vivo', 'Empezar a generar ingresos extra', 'Emprender',\n",
              "       'Salud / Bienestar personal',\n",
              "       'No me ha hecho sentir confiado(a) en mis habilidades',\n",
              "       'AbrÃ\\xad mi propia empresa o negocio', 'Comunidad/Foro',\n",
              "       'EmpecÃ© a generar ingresos extra', 'Negocio establecido, formal',\n",
              "       'Contribuir en la salud fÃ\\xadsica y/o emocional de mi familia / amigos',\n",
              "       'Ligeramente', 'MejorÃ© mi salud fÃ\\xadsica y/o emocional',\n",
              "       'Mejorar mis servicios y/o productos',\n",
              "       'Adquirir conocimientos/habilidades para abrir mi empresa o negocio en un futuro',\n",
              "       'ContribuÃ\\xad en la salud fÃ\\xadsica y/o emocional de mi familia / amigos',\n",
              "       'Mejorar mi rendimiento en mi empleo actual',\n",
              "       'Incrementar mi oferta de servicios y/o productos',\n",
              "       'AccedÃ\\xad a mejores oportunidades laborales',\n",
              "       'Incrementar los ingresos de mi empresa o negocio actual',\n",
              "       'Ninguna de las anteriores',\n",
              "       'Comunidad de estudiantes, egresados y docentes',\n",
              "       'Me ha hecho sentir algo confiado(a) en mis habilidades',\n",
              "       'IncrementÃ© mi oferta de servicios y/o productos',\n",
              "       'ContribuÃ\\xad en la salud fÃ\\xadsica y/o emocional de mis clientes',\n",
              "       'Mejorar mi salud fÃ\\xadsica y/o emocional',\n",
              "       'MejorÃ© mi rendimiento en mi empleo actual',\n",
              "       'Acceder a mejores oportunidades laborales',\n",
              "       'Abrir mi propia empresa o negocio',\n",
              "       'No me diÃ³ mÃ¡s confianza para emprenderÂ\\xa0',\n",
              "       'Emprendimiento informal (venta en lÃ\\xadnea, con amigos y familiares)',\n",
              "       'ConseguÃ\\xad trabajo', 'Conseguir trabajo', 'Mucho',\n",
              "       'Contribuir en la salud fÃ\\xadsica y/o emocional de mis clientes',\n",
              "       'Hace menos de 10 dÃ\\xadasÂ\\xa0', 'Entre 20 y 30 dÃ\\xadasÂ\\xa0'],\n",
              "      dtype=object)"
            ]
          },
          "metadata": {},
          "execution_count": 13
        }
      ],
      "source": [
        "#NO INCLUIR EN EL CODIGO\n",
        "Encuestas[(Encuestas['title']=='Encuesta para graduados 2021')]['response_text'].unique()"
      ]
    },
    {
      "cell_type": "code",
      "execution_count": 14,
      "metadata": {
        "colab": {
          "base_uri": "https://localhost:8080/"
        },
        "id": "TcTR0NewHGcy",
        "outputId": "cb2d89fc-7f3b-4860-ce4e-792837599137"
      },
      "outputs": [
        {
          "output_type": "execute_result",
          "data": {
            "text/plain": [
              "array(['Empezar a generar ingresos extra', '3-Estoy cerca(50%)',\n",
              "       'Mejorar la salud fÃ\\xadsica o emocional de mis clientes',\n",
              "       'Adquirir nuevos conocimientos para mÃ\\xad/Hobby /Pasatiempo',\n",
              "       'Mejorar la salud fÃ\\xadsica o emocional de mi familia / amigos',\n",
              "       'Mejorar mi salud fÃ\\xadsica o emocional',\n",
              "       '2-Estoy algo cerca (25%)', 'Impulsar mi negocio.',\n",
              "       'Obtener un diploma.',\n",
              "       'Mejorar mi salud fÃ\\xadsica-emocional y/o las de otras personas/Desarrollo personal.',\n",
              "       '1-AÃºn estoy lejos (0%)', 'Crear una empresa/Emprender.',\n",
              "       'Comenzar mi propia empresa o negocio', 'Cambiar de trabajo',\n",
              "       'Desarrollar o mejorar de mi carrera profesional.',\n",
              "       '4-Estoy muy cerca (75%)',\n",
              "       'Mejorar el servicio de mi empresa o emprendimiento',\n",
              "       'Adquirir conocimientos para abrir mi empresa o negocio',\n",
              "       '5-Lo alcancÃ© (100%)',\n",
              "       'Mejorar mi rendimiento en mi empleo actual',\n",
              "       'Crecer los ingresos de mi empresa o emprendimiento existente',\n",
              "       'Ascender en mi trabajo actual', 'Conseguir trabajo'], dtype=object)"
            ]
          },
          "metadata": {},
          "execution_count": 14
        }
      ],
      "source": [
        "#NO INCLUIR EN EL CODIGO\n",
        "Encuestas[(Encuestas['title']=='Monitoreo de Impacto - 6 Semanas')]['response_text'].unique()"
      ]
    },
    {
      "cell_type": "code",
      "execution_count": 15,
      "metadata": {
        "colab": {
          "base_uri": "https://localhost:8080/"
        },
        "id": "S-lb3V9DH5O8",
        "outputId": "53ef416c-cfb5-4187-edc7-df131f82c9ca"
      },
      "outputs": [
        {
          "output_type": "execute_result",
          "data": {
            "text/plain": [
              "array(['2-Estoy algo cerca (25%)', 'Impulsar mi negocio',\n",
              "       'Comenzar mi propia empresa o negocio', '4-Estoy muy cerca (75%)',\n",
              "       'Crear una empresa/Emprender',\n",
              "       'Crecer los ingresos de mi empresa o emprendimiento existente',\n",
              "       '3-Estoy cerca(50%)',\n",
              "       'Mejorar mi salud fÃ\\xadsica-emocional y/o las de otras personas/Desarrollo personal',\n",
              "       'Empezar a generar ingresos extra',\n",
              "       'Desarrollar o mejorar de mi carrera profesional',\n",
              "       'Ascender en mi trabajo actual', 'Obtener un diploma',\n",
              "       'Mejorar mi rendimiento en mi empleo actual',\n",
              "       'Mejorar la salud fÃ\\xadsica o emocional de mi familia / amigos',\n",
              "       'Mejorar mi salud fÃ\\xadsica o emocional',\n",
              "       'Mejorar el servicio de mi empresa o emprendimiento',\n",
              "       '1-AÃºn estoy lejos (0%)',\n",
              "       'Adquirir nuevos conocimientos para mÃ\\xad/Hobby /Pasatiempo',\n",
              "       '5-Lo alcancÃ© (100%)',\n",
              "       'Adquirir conocimientos para abrir mi empresa o negocio',\n",
              "       'Mejorar la salud fÃ\\xadsica o emocional de mis clientes',\n",
              "       'Conseguir trabajo', 'Cambiar de trabajo'], dtype=object)"
            ]
          },
          "metadata": {},
          "execution_count": 15
        }
      ],
      "source": [
        "#NO INCLUIR EN EL CODIGO\n",
        "Encuestas[(Encuestas['title']=='Monitoreo de Impacto - 3 Semanas')]['response_text'].unique()"
      ]
    },
    {
      "cell_type": "code",
      "execution_count": 16,
      "metadata": {
        "colab": {
          "base_uri": "https://localhost:8080/"
        },
        "id": "sr4iUD8vH73i",
        "outputId": "5395e771-b7a6-4ecb-8940-bf787b1ac173"
      },
      "outputs": [
        {
          "output_type": "execute_result",
          "data": {
            "text/plain": [
              "array(['Emprender', 'Hacer crecer mi negocio',\n",
              "       'Incrementar los ingresos de mi empresa o negocio actual',\n",
              "       'Salud / Bienestar personal',\n",
              "       'Contribuir en la salud fÃ\\xadsica y/o emocional de mi familia / amigos',\n",
              "       'AccedÃ\\xad a mejores oportunidades laborales',\n",
              "       'Desarrollo de mi carrera profesional o laboral',\n",
              "       'Hobby / Pasatiempo',\n",
              "       'Adquirir conocimientos/habilidades para abrir mi empresa o negocio en un futuro',\n",
              "       'AdquirÃ\\xad conocimientos/habilidades para abrir mi empresa o negocio en un futuro',\n",
              "       'Ninguna de las anteriores', 'Regular',\n",
              "       'MejorÃ© mi salud fÃ\\xadsica y/o emocional',\n",
              "       'ContribuÃ\\xad en la salud fÃ\\xadsica y/o emocional de mi familia / amigos',\n",
              "       'Complementar mi formaciÃ³n/profesiÃ³n',\n",
              "       'EmpecÃ© a generar ingresos extra', 'Ligeramente',\n",
              "       'IncrementÃ© mi oferta de servicios y/o productos',\n",
              "       'IncrementÃ© los ingresos de mi empresa o negocio actual',\n",
              "       'Mejorar mis servicios y/o productos',\n",
              "       'Mejorar mi salud fÃ\\xadsica y/o emocional',\n",
              "       'Mejorar mi rendimiento en mi empleo actual',\n",
              "       'Empezar a generar ingresos extra', 'Mucho',\n",
              "       'Acceder a mejores oportunidades laborales',\n",
              "       'MejorÃ© mi rendimiento en mi empleo actual',\n",
              "       'MejorÃ© mis servicios y/o productos',\n",
              "       'Abrir mi propia empresa o negocio',\n",
              "       'Incrementar mi oferta de servicios y/o productos',\n",
              "       'AbrÃ\\xad mi propia empresa o negocio', 'Conseguir trabajo',\n",
              "       'ContribuÃ\\xad en la salud fÃ\\xadsica y/o emocional de mis clientes',\n",
              "       'ConseguÃ\\xad trabajo',\n",
              "       'Contribuir en la salud fÃ\\xadsica y/o emocional de mis clientes'],\n",
              "      dtype=object)"
            ]
          },
          "metadata": {},
          "execution_count": 16
        }
      ],
      "source": [
        "#NO INCLUIR EN EL CODIGO\n",
        "Encuestas[(Encuestas['title']=='Seguimiento graduados 60d')]['response_text'].unique()"
      ]
    },
    {
      "cell_type": "code",
      "execution_count": 17,
      "metadata": {
        "colab": {
          "base_uri": "https://localhost:8080/"
        },
        "id": "UNU-YtbcIHmg",
        "outputId": "2d1030a2-60ba-412e-e2f3-9141f553c0e7"
      },
      "outputs": [
        {
          "output_type": "execute_result",
          "data": {
            "text/plain": [
              "array(['Desarrollo de mi carrera profesional o laboral',\n",
              "       'AccedÃ\\xad a mejores oportunidades laborales',\n",
              "       'Hobby / Pasatiempo',\n",
              "       'Incrementar los ingresos de mi empresa o negocio actual',\n",
              "       'MejorÃ© mis servicios y/o productos', 'Hacer crecer mi negocio',\n",
              "       'Mejorar mi rendimiento en mi empleo actual',\n",
              "       'Salud / Bienestar personal', 'Emprender', 'Mucho',\n",
              "       'IncrementÃ© los ingresos de mi empresa o negocio actual',\n",
              "       'MejorÃ© mi rendimiento en mi empleo actual', 'Ligeramente',\n",
              "       'Acceder a mejores oportunidades laborales',\n",
              "       'Complementar mi formaciÃ³n/profesiÃ³n',\n",
              "       'EmpecÃ© a generar ingresos extra',\n",
              "       'IncrementÃ© mi oferta de servicios y/o productos',\n",
              "       'ContribuÃ\\xad en la salud fÃ\\xadsica y/o emocional de mi familia / amigos',\n",
              "       'Mejorar mi salud fÃ\\xadsica y/o emocional',\n",
              "       'Ninguna de las anteriores', 'Empezar a generar ingresos extra',\n",
              "       'Abrir mi propia empresa o negocio',\n",
              "       'AbrÃ\\xad mi propia empresa o negocio',\n",
              "       'AdquirÃ\\xad conocimientos/habilidades para abrir mi empresa o negocio en un futuro',\n",
              "       'Regular', 'Mejorar mis servicios y/o productos',\n",
              "       'Contribuir en la salud fÃ\\xadsica y/o emocional de mi familia / amigos',\n",
              "       'Adquirir conocimientos/habilidades para abrir mi empresa o negocio en un futuro',\n",
              "       'Incrementar mi oferta de servicios y/o productos',\n",
              "       'MejorÃ© mi salud fÃ\\xadsica y/o emocional',\n",
              "       'Contribuir en la salud fÃ\\xadsica y/o emocional de mis clientes',\n",
              "       'ConseguÃ\\xad trabajo', 'Conseguir trabajo',\n",
              "       'ContribuÃ\\xad en la salud fÃ\\xadsica y/o emocional de mis clientes'],\n",
              "      dtype=object)"
            ]
          },
          "metadata": {},
          "execution_count": 17
        }
      ],
      "source": [
        "#NO INCLUIR EN EL CODIGO\n",
        "Encuestas[(Encuestas['title']=='Seguimiento graduados 90d')]['response_text'].unique()"
      ]
    },
    {
      "cell_type": "code",
      "execution_count": null,
      "metadata": {
        "colab": {
          "base_uri": "https://localhost:8080/"
        },
        "id": "Wo77GxYEIe8x",
        "outputId": "16e66783-d213-404a-c3a7-2f9cadbef853"
      },
      "outputs": [
        {
          "output_type": "execute_result",
          "data": {
            "text/plain": [
              "array(['Seguimiento graduados 90d', 'Seguimiento graduados 60d',\n",
              "       'Encuesta para graduados 2021', 'Monitoreo de Impacto - 3 Semanas',\n",
              "       'Monitoreo de Impacto - 6 Semanas'], dtype=object)"
            ]
          },
          "metadata": {},
          "execution_count": 460
        }
      ],
      "source": [
        "#NO INCLUIR EN EL CODIGO\n",
        "Encuestas['title'].unique()"
      ]
    },
    {
      "cell_type": "markdown",
      "metadata": {
        "id": "i7MJimsrJfPe"
      },
      "source": [
        "#Sintetizar el titulo en siglas"
      ]
    },
    {
      "cell_type": "code",
      "execution_count": null,
      "metadata": {
        "id": "3AlJsz_0IVPy"
      },
      "outputs": [],
      "source": [
        "def new_titles(x):\n",
        "  if x=='Encuesta para graduados 2021':\n",
        "    return 'EG'\n",
        "  elif x=='Seguimiento graduados 60d':\n",
        "    return 'SG60'\n",
        "  elif x=='Monitoreo de Impacto - 3 Semanas':\n",
        "    return 'MI3'\n",
        "  elif x=='Monitoreo de Impacto - 6 Semanas':\n",
        "    return 'MI6'\n",
        "  elif x=='Seguimiento graduados 90d':\n",
        "    return 'SG90'"
      ]
    },
    {
      "cell_type": "code",
      "execution_count": null,
      "metadata": {
        "id": "DCTRfPI5I9q4"
      },
      "outputs": [],
      "source": [
        "Encuestas['title']=Encuestas['title'].apply(lambda x: new_titles(x))"
      ]
    },
    {
      "cell_type": "markdown",
      "metadata": {
        "id": "r5ZPlKgGJiyy"
      },
      "source": [
        "#Reemplazar los espacios y / con _"
      ]
    },
    {
      "cell_type": "code",
      "execution_count": null,
      "metadata": {
        "id": "U3eiPM3bJoCJ"
      },
      "outputs": [],
      "source": [
        "Encuestas['response_text']=Encuestas['response_text'].str.replace(' ', '_')"
      ]
    },
    {
      "cell_type": "code",
      "execution_count": null,
      "metadata": {
        "id": "3-azDaFhJ7xV"
      },
      "outputs": [],
      "source": [
        "Encuestas['response_text']=Encuestas['response_text'].str.replace('/', '_')"
      ]
    },
    {
      "cell_type": "code",
      "execution_count": null,
      "metadata": {
        "colab": {
          "base_uri": "https://localhost:8080/"
        },
        "id": "QUxUih3IKCSR",
        "outputId": "70fd77ae-7f14-4ade-c6ba-2bbd0b7ac80e"
      },
      "outputs": [
        {
          "output_type": "execute_result",
          "data": {
            "text/plain": [
              "array(['Desarrollo_de_mi_carrera_profesional_o_laboral', 'Emprender',\n",
              "       'Hacer_crecer_mi_negocio',\n",
              "       'Incrementar_los_ingresos_de_mi_empresa_o_negocio_actual',\n",
              "       'AccedÃ\\xad_a_mejores_oportunidades_laborales',\n",
              "       'AdquirÃ\\xad_conocimientos_habilidades_para_abrir_mi_empresa_o_negocio_en_un_futuro',\n",
              "       'Contenido_Temario', 'Hobby___Pasatiempo',\n",
              "       'Me_diÃ³_mÃ¡s_confianza_para_emprenderÂ\\xa0',\n",
              "       'RetroalimentaciÃ³n_de_los_docentes',\n",
              "       'Acceso_de_por_vida_al_material_(videos_y_descargables)_del_diplomado_que_cursaste',\n",
              "       'Complementar_mi_formaciÃ³n_profesiÃ³n',\n",
              "       'Recursos_educativos:_videos,_descargables,_audios,_etc.',\n",
              "       'MejorÃ©_mis_servicios_y_o_productos', 'Actividades_prÃ¡cticas',\n",
              "       'Clases_grabadas_en_video,_sobre_temas_de_tu_interÃ©s',\n",
              "       'IncrementÃ©_los_ingresos_de_mi_empresa_o_negocio_actual',\n",
              "       'Regular', 'Mejorar_mi_rendimiento_en_mi_empleo_actual',\n",
              "       'Salud___Bienestar_personal',\n",
              "       'Me_ha_hecho_sentir_mÃ¡s_confiado(a)_en_mis_habilidades',\n",
              "       'Clases_en_vivo', 'Empezar_a_generar_ingresos_extra',\n",
              "       'No_me_ha_hecho_sentir_confiado(a)_en_mis_habilidades',\n",
              "       'Contribuir_en_la_salud_fÃ\\xadsica_y_o_emocional_de_mi_familia___amigos',\n",
              "       'AbrÃ\\xad_mi_propia_empresa_o_negocio', 'Comunidad_Foro',\n",
              "       'EmpecÃ©_a_generar_ingresos_extra', 'Negocio_establecido,_formal',\n",
              "       'Mucho', 'Ligeramente',\n",
              "       'MejorÃ©_mi_salud_fÃ\\xadsica_y_o_emocional',\n",
              "       'Mejorar_mis_servicios_y_o_productos',\n",
              "       'Adquirir_conocimientos_habilidades_para_abrir_mi_empresa_o_negocio_en_un_futuro',\n",
              "       'ContribuÃ\\xad_en_la_salud_fÃ\\xadsica_y_o_emocional_de_mi_familia___amigos',\n",
              "       'Incrementar_mi_oferta_de_servicios_y_o_productos',\n",
              "       'Ninguna_de_las_anteriores',\n",
              "       'MejorÃ©_mi_rendimiento_en_mi_empleo_actual',\n",
              "       'Comunidad_de_estudiantes,_egresados_y_docentes',\n",
              "       'Me_ha_hecho_sentir_algo_confiado(a)_en_mis_habilidades',\n",
              "       'Acceder_a_mejores_oportunidades_laborales',\n",
              "       'IncrementÃ©_mi_oferta_de_servicios_y_o_productos',\n",
              "       'ContribuÃ\\xad_en_la_salud_fÃ\\xadsica_y_o_emocional_de_mis_clientes',\n",
              "       'Mejorar_mi_salud_fÃ\\xadsica_y_o_emocional',\n",
              "       'Abrir_mi_propia_empresa_o_negocio',\n",
              "       'No_me_diÃ³_mÃ¡s_confianza_para_emprenderÂ\\xa0',\n",
              "       'Emprendimiento_informal_(venta_en_lÃ\\xadnea,_con_amigos_y_familiares)',\n",
              "       'ConseguÃ\\xad_trabajo', 'Conseguir_trabajo',\n",
              "       'Contribuir_en_la_salud_fÃ\\xadsica_y_o_emocional_de_mis_clientes',\n",
              "       '2-Estoy_algo_cerca_(25%)', 'Impulsar_mi_negocio',\n",
              "       'Comenzar_mi_propia_empresa_o_negocio', '4-Estoy_muy_cerca_(75%)',\n",
              "       'Crear_una_empresa_Emprender',\n",
              "       'Crecer_los_ingresos_de_mi_empresa_o_emprendimiento_existente',\n",
              "       '3-Estoy_cerca(50%)',\n",
              "       'Mejorar_mi_salud_fÃ\\xadsica-emocional_y_o_las_de_otras_personas_Desarrollo_personal',\n",
              "       'Desarrollar_o_mejorar_de_mi_carrera_profesional',\n",
              "       'Ascender_en_mi_trabajo_actual', 'Obtener_un_diploma',\n",
              "       'Mejorar_la_salud_fÃ\\xadsica_o_emocional_de_mi_familia___amigos',\n",
              "       'Mejorar_mi_salud_fÃ\\xadsica_o_emocional',\n",
              "       'Mejorar_el_servicio_de_mi_empresa_o_emprendimiento',\n",
              "       '1-AÃºn_estoy_lejos_(0%)',\n",
              "       'Adquirir_nuevos_conocimientos_para_mÃ\\xad_Hobby__Pasatiempo',\n",
              "       '5-Lo_alcancÃ©_(100%)',\n",
              "       'Mejorar_la_salud_fÃ\\xadsica_o_emocional_de_mis_clientes',\n",
              "       'Impulsar_mi_negocio.', 'Obtener_un_diploma.',\n",
              "       'Mejorar_mi_salud_fÃ\\xadsica-emocional_y_o_las_de_otras_personas_Desarrollo_personal.',\n",
              "       'Crear_una_empresa_Emprender.', 'Cambiar_de_trabajo',\n",
              "       'Adquirir_conocimientos_para_abrir_mi_empresa_o_negocio',\n",
              "       'Desarrollar_o_mejorar_de_mi_carrera_profesional.',\n",
              "       'Hace_menos_de_10_dÃ\\xadasÂ\\xa0', 'Entre_20_y_30_dÃ\\xadasÂ\\xa0'],\n",
              "      dtype=object)"
            ]
          },
          "metadata": {},
          "execution_count": 465
        }
      ],
      "source": [
        "Encuestas['response_text'].unique()"
      ]
    },
    {
      "cell_type": "markdown",
      "metadata": {
        "id": "iMKO2_NkeQds"
      },
      "source": [
        "#Catalogo de preguntas"
      ]
    },
    {
      "cell_type": "code",
      "execution_count": null,
      "metadata": {
        "id": "BZzdBUyHeS7x"
      },
      "outputs": [],
      "source": [
        "#NO INCLUIR EN EL CODIGO\n",
        "catalogo_EG=Encuestas[(Encuestas['title']=='EG')][['question_id','question_text']].drop_duplicates().reset_index()\n",
        "catalogo_EG=catalogo_EG.drop(['index'],axis=1)\n",
        "catalogo_EG['n_pregunta']=catalogo_EG['question_id'].rank(ascending=True)\n",
        "catalogo_EG['n_pregunta']=catalogo_EG['n_pregunta'].astype(int)\n",
        "catalogo_EG['pregunta_final']=catalogo_EG['question_id'].astype(str)+catalogo_EG['question_text']"
      ]
    },
    {
      "cell_type": "code",
      "execution_count": null,
      "metadata": {
        "id": "chhTPPk9fBwq"
      },
      "outputs": [],
      "source": [
        "#NO INCLUIR EN EL CODIGO\n",
        "catalogo_SG60=Encuestas[(Encuestas['title']=='SG60')][['question_id','question_text']].drop_duplicates().reset_index()\n",
        "catalogo_SG60=catalogo_SG60.drop(['index'],axis=1)\n",
        "catalogo_SG60['n_pregunta']=catalogo_SG60['question_id'].rank(ascending=True)\n",
        "catalogo_SG60['n_pregunta']=catalogo_SG60['n_pregunta'].astype(int)\n",
        "catalogo_SG60['pregunta_final']=catalogo_SG60['question_id'].astype(str)+catalogo_SG60['question_text']"
      ]
    },
    {
      "cell_type": "code",
      "execution_count": null,
      "metadata": {
        "id": "rThq5sIehbm3"
      },
      "outputs": [],
      "source": [
        "#NO INCLUIR EN EL CODIGO\n",
        "catalogo_SG90=Encuestas[(Encuestas['title']=='SG90')][['question_id','question_text']].drop_duplicates().reset_index()\n",
        "catalogo_SG90=catalogo_SG90.drop(['index'],axis=1)\n",
        "catalogo_SG90['n_pregunta']=catalogo_SG90['question_id'].rank(ascending=True)\n",
        "catalogo_SG90['n_pregunta']=catalogo_SG90['n_pregunta'].astype(int)\n",
        "catalogo_SG90['pregunta_final']=catalogo_SG90['question_id'].astype(str)+catalogo_SG90['question_text']"
      ]
    },
    {
      "cell_type": "code",
      "execution_count": null,
      "metadata": {
        "id": "1VzLIpxUhcbg"
      },
      "outputs": [],
      "source": [
        "#NO INCLUIR EN EL CODIGO\n",
        "catalogo_MI3=Encuestas[(Encuestas['title']=='MI3')][['question_id','question_text']].drop_duplicates().reset_index()\n",
        "catalogo_MI3=catalogo_MI3.drop(['index'],axis=1)\n",
        "catalogo_MI3['n_pregunta']=catalogo_MI3['question_id'].rank(ascending=True)\n",
        "catalogo_MI3['n_pregunta']=catalogo_MI3['n_pregunta'].astype(int)\n",
        "catalogo_MI3['pregunta_final']=catalogo_MI3['question_id'].astype(str)+catalogo_MI3['question_text']"
      ]
    },
    {
      "cell_type": "code",
      "execution_count": null,
      "metadata": {
        "id": "gYC9_LRphchZ"
      },
      "outputs": [],
      "source": [
        "#NO INCLUIR EN EL CODIGO\n",
        "catalogo_MI6=Encuestas[(Encuestas['title']=='MI6')][['question_id','question_text']].drop_duplicates().reset_index()\n",
        "catalogo_MI6=catalogo_MI6.drop(['index'],axis=1)\n",
        "catalogo_MI6['n_pregunta']=catalogo_MI6['question_id'].rank(ascending=True)\n",
        "catalogo_MI6['n_pregunta']=catalogo_MI6['n_pregunta'].astype(int)\n",
        "catalogo_MI6['pregunta_final']=catalogo_MI6['question_id'].astype(str)+catalogo_MI6['question_text']"
      ]
    },
    {
      "cell_type": "code",
      "execution_count": null,
      "metadata": {
        "id": "Ih-HUenNiXdO"
      },
      "outputs": [],
      "source": [
        "#NO INCLUIR EN EL CODIGO\n",
        "catalogo_EG.to_csv('/content/drive/MyDrive/Encuestas/catalogo_EG.csv', sep=',', encoding = \"ISO-8859-1\", index = False)\n",
        "catalogo_SG60.to_csv('/content/drive/MyDrive/Encuestas/catalogo_SG60.csv', sep=',', encoding = \"ISO-8859-1\", index = False)\n",
        "catalogo_SG90.to_csv('/content/drive/MyDrive/Encuestas/catalogo_SG90.csv', sep=',', encoding = \"ISO-8859-1\", index = False)\n",
        "catalogo_MI3.to_csv('/content/drive/MyDrive/Encuestas/catalogo_MI3.csv', sep=',', encoding = \"ISO-8859-1\", index = False)\n",
        "catalogo_MI6.to_csv('/content/drive/MyDrive/Encuestas/catalogo_MI6.csv', sep=',', encoding = \"ISO-8859-1\", index = False)"
      ]
    },
    {
      "cell_type": "markdown",
      "metadata": {
        "id": "1tycSxBfmE3E"
      },
      "source": [
        "#Cruce del catalogo con el dataset de Encuestas"
      ]
    },
    {
      "cell_type": "code",
      "execution_count": null,
      "metadata": {
        "id": "hT8D4YsonvN0"
      },
      "outputs": [],
      "source": [
        "catalogo=pd.concat([catalogo_EG,catalogo_SG60,catalogo_SG90,catalogo_MI3,catalogo_MI6])"
      ]
    },
    {
      "cell_type": "code",
      "execution_count": null,
      "metadata": {
        "id": "XgkU7nw4mInF"
      },
      "outputs": [],
      "source": [
        "Encuestas['pregunta_final']=Encuestas['question_id'].astype(str)+Encuestas['question_text']"
      ]
    },
    {
      "cell_type": "code",
      "execution_count": null,
      "metadata": {
        "id": "h_om_1c7mbnc"
      },
      "outputs": [],
      "source": [
        "Encuestas=pd.merge(Encuestas, catalogo[['pregunta_final','n_pregunta']], on ='pregunta_final', how ='left')"
      ]
    },
    {
      "cell_type": "code",
      "execution_count": null,
      "metadata": {
        "colab": {
          "base_uri": "https://localhost:8080/",
          "height": 206
        },
        "id": "Zsr6Gyt8nY75",
        "outputId": "62ab4bfe-45b8-4fd1-911b-9fb8a84314d2"
      },
      "outputs": [
        {
          "output_type": "execute_result",
          "data": {
            "text/html": [
              "\n",
              "  <div id=\"df-95b5abf6-4a84-4fab-9bdb-6ffd284472e9\">\n",
              "    <div class=\"colab-df-container\">\n",
              "      <div>\n",
              "<style scoped>\n",
              "    .dataframe tbody tr th:only-of-type {\n",
              "        vertical-align: middle;\n",
              "    }\n",
              "\n",
              "    .dataframe tbody tr th {\n",
              "        vertical-align: top;\n",
              "    }\n",
              "\n",
              "    .dataframe thead th {\n",
              "        text-align: right;\n",
              "    }\n",
              "</style>\n",
              "<table border=\"1\" class=\"dataframe\">\n",
              "  <thead>\n",
              "    <tr style=\"text-align: right;\">\n",
              "      <th></th>\n",
              "      <th>salesforce_contact_id</th>\n",
              "      <th>title</th>\n",
              "      <th>question_id</th>\n",
              "      <th>question_text</th>\n",
              "      <th>response_text</th>\n",
              "      <th>pregunta_final</th>\n",
              "      <th>n_pregunta</th>\n",
              "    </tr>\n",
              "  </thead>\n",
              "  <tbody>\n",
              "    <tr>\n",
              "      <th>0</th>\n",
              "      <td>0035G00001bFHH0QAO</td>\n",
              "      <td>SG90</td>\n",
              "      <td>601141970</td>\n",
              "      <td>&lt;span style=\"color: #000080;\"&gt;&lt;strong&gt;Pensando...</td>\n",
              "      <td>Desarrollo_de_mi_carrera_profesional_o_laboral</td>\n",
              "      <td>601141970&lt;span style=\"color: #000080;\"&gt;&lt;strong...</td>\n",
              "      <td>1</td>\n",
              "    </tr>\n",
              "    <tr>\n",
              "      <th>1</th>\n",
              "      <td>0035G00001bFIf0QAG</td>\n",
              "      <td>SG60</td>\n",
              "      <td>601036931</td>\n",
              "      <td>&lt;span style=\"color: #000080;\"&gt;&lt;strong&gt;AdemÃ¡s ...</td>\n",
              "      <td>Emprender</td>\n",
              "      <td>601036931&lt;span style=\"color: #000080;\"&gt;&lt;strong...</td>\n",
              "      <td>2</td>\n",
              "    </tr>\n",
              "    <tr>\n",
              "      <th>2</th>\n",
              "      <td>0035G00001bFIf0QAG</td>\n",
              "      <td>SG60</td>\n",
              "      <td>601036930</td>\n",
              "      <td>&lt;span style=\"color: #000080;\"&gt;&lt;strong&gt;Pensando...</td>\n",
              "      <td>Hacer_crecer_mi_negocio</td>\n",
              "      <td>601036930&lt;span style=\"color: #000080;\"&gt;&lt;strong...</td>\n",
              "      <td>1</td>\n",
              "    </tr>\n",
              "    <tr>\n",
              "      <th>3</th>\n",
              "      <td>0035G00001bFIf0QAG</td>\n",
              "      <td>SG60</td>\n",
              "      <td>601036932</td>\n",
              "      <td>&lt;span style=\"color: #000080;\"&gt;&lt;strong&gt;En relac...</td>\n",
              "      <td>Incrementar_los_ingresos_de_mi_empresa_o_negoc...</td>\n",
              "      <td>601036932&lt;span style=\"color: #000080;\"&gt;&lt;strong...</td>\n",
              "      <td>3</td>\n",
              "    </tr>\n",
              "    <tr>\n",
              "      <th>4</th>\n",
              "      <td>0035G00001bFHH0QAO</td>\n",
              "      <td>SG90</td>\n",
              "      <td>601141971</td>\n",
              "      <td>&lt;span style=\"color: #000080;\"&gt;&lt;strong&gt;AdemÃ¡s ...</td>\n",
              "      <td>Desarrollo_de_mi_carrera_profesional_o_laboral</td>\n",
              "      <td>601141971&lt;span style=\"color: #000080;\"&gt;&lt;strong...</td>\n",
              "      <td>2</td>\n",
              "    </tr>\n",
              "  </tbody>\n",
              "</table>\n",
              "</div>\n",
              "      <button class=\"colab-df-convert\" onclick=\"convertToInteractive('df-95b5abf6-4a84-4fab-9bdb-6ffd284472e9')\"\n",
              "              title=\"Convert this dataframe to an interactive table.\"\n",
              "              style=\"display:none;\">\n",
              "        \n",
              "  <svg xmlns=\"http://www.w3.org/2000/svg\" height=\"24px\"viewBox=\"0 0 24 24\"\n",
              "       width=\"24px\">\n",
              "    <path d=\"M0 0h24v24H0V0z\" fill=\"none\"/>\n",
              "    <path d=\"M18.56 5.44l.94 2.06.94-2.06 2.06-.94-2.06-.94-.94-2.06-.94 2.06-2.06.94zm-11 1L8.5 8.5l.94-2.06 2.06-.94-2.06-.94L8.5 2.5l-.94 2.06-2.06.94zm10 10l.94 2.06.94-2.06 2.06-.94-2.06-.94-.94-2.06-.94 2.06-2.06.94z\"/><path d=\"M17.41 7.96l-1.37-1.37c-.4-.4-.92-.59-1.43-.59-.52 0-1.04.2-1.43.59L10.3 9.45l-7.72 7.72c-.78.78-.78 2.05 0 2.83L4 21.41c.39.39.9.59 1.41.59.51 0 1.02-.2 1.41-.59l7.78-7.78 2.81-2.81c.8-.78.8-2.07 0-2.86zM5.41 20L4 18.59l7.72-7.72 1.47 1.35L5.41 20z\"/>\n",
              "  </svg>\n",
              "      </button>\n",
              "      \n",
              "  <style>\n",
              "    .colab-df-container {\n",
              "      display:flex;\n",
              "      flex-wrap:wrap;\n",
              "      gap: 12px;\n",
              "    }\n",
              "\n",
              "    .colab-df-convert {\n",
              "      background-color: #E8F0FE;\n",
              "      border: none;\n",
              "      border-radius: 50%;\n",
              "      cursor: pointer;\n",
              "      display: none;\n",
              "      fill: #1967D2;\n",
              "      height: 32px;\n",
              "      padding: 0 0 0 0;\n",
              "      width: 32px;\n",
              "    }\n",
              "\n",
              "    .colab-df-convert:hover {\n",
              "      background-color: #E2EBFA;\n",
              "      box-shadow: 0px 1px 2px rgba(60, 64, 67, 0.3), 0px 1px 3px 1px rgba(60, 64, 67, 0.15);\n",
              "      fill: #174EA6;\n",
              "    }\n",
              "\n",
              "    [theme=dark] .colab-df-convert {\n",
              "      background-color: #3B4455;\n",
              "      fill: #D2E3FC;\n",
              "    }\n",
              "\n",
              "    [theme=dark] .colab-df-convert:hover {\n",
              "      background-color: #434B5C;\n",
              "      box-shadow: 0px 1px 3px 1px rgba(0, 0, 0, 0.15);\n",
              "      filter: drop-shadow(0px 1px 2px rgba(0, 0, 0, 0.3));\n",
              "      fill: #FFFFFF;\n",
              "    }\n",
              "  </style>\n",
              "\n",
              "      <script>\n",
              "        const buttonEl =\n",
              "          document.querySelector('#df-95b5abf6-4a84-4fab-9bdb-6ffd284472e9 button.colab-df-convert');\n",
              "        buttonEl.style.display =\n",
              "          google.colab.kernel.accessAllowed ? 'block' : 'none';\n",
              "\n",
              "        async function convertToInteractive(key) {\n",
              "          const element = document.querySelector('#df-95b5abf6-4a84-4fab-9bdb-6ffd284472e9');\n",
              "          const dataTable =\n",
              "            await google.colab.kernel.invokeFunction('convertToInteractive',\n",
              "                                                     [key], {});\n",
              "          if (!dataTable) return;\n",
              "\n",
              "          const docLinkHtml = 'Like what you see? Visit the ' +\n",
              "            '<a target=\"_blank\" href=https://colab.research.google.com/notebooks/data_table.ipynb>data table notebook</a>'\n",
              "            + ' to learn more about interactive tables.';\n",
              "          element.innerHTML = '';\n",
              "          dataTable['output_type'] = 'display_data';\n",
              "          await google.colab.output.renderOutput(dataTable, element);\n",
              "          const docLink = document.createElement('div');\n",
              "          docLink.innerHTML = docLinkHtml;\n",
              "          element.appendChild(docLink);\n",
              "        }\n",
              "      </script>\n",
              "    </div>\n",
              "  </div>\n",
              "  "
            ],
            "text/plain": [
              "  salesforce_contact_id  ... n_pregunta\n",
              "0    0035G00001bFHH0QAO  ...          1\n",
              "1    0035G00001bFIf0QAG  ...          2\n",
              "2    0035G00001bFIf0QAG  ...          1\n",
              "3    0035G00001bFIf0QAG  ...          3\n",
              "4    0035G00001bFHH0QAO  ...          2\n",
              "\n",
              "[5 rows x 7 columns]"
            ]
          },
          "metadata": {},
          "execution_count": 475
        }
      ],
      "source": [
        "Encuestas.head()"
      ]
    },
    {
      "cell_type": "markdown",
      "metadata": {
        "id": "SgTRQXEw8cBa"
      },
      "source": [
        "#Prueba con pivot table"
      ]
    },
    {
      "cell_type": "code",
      "execution_count": null,
      "metadata": {
        "id": "GNFF4n3l8d_1"
      },
      "outputs": [],
      "source": [
        "Encuestas['question']=Encuestas['title']+'___'+'P'+Encuestas['n_pregunta'].astype(str)+'___'+Encuestas[\"response_text\"].astype(str)"
      ]
    },
    {
      "cell_type": "code",
      "execution_count": null,
      "metadata": {
        "id": "gjfWxcWM-Bt-"
      },
      "outputs": [],
      "source": [
        "Encuestas['value']=1"
      ]
    },
    {
      "cell_type": "code",
      "execution_count": null,
      "metadata": {
        "colab": {
          "base_uri": "https://localhost:8080/",
          "height": 337
        },
        "id": "H7bKPEm3-J8U",
        "outputId": "e5c8840a-44dd-42d4-8c51-deac11155343"
      },
      "outputs": [
        {
          "output_type": "execute_result",
          "data": {
            "text/html": [
              "\n",
              "  <div id=\"df-84c5cdfe-8086-4af1-bed3-695a9deddc2b\">\n",
              "    <div class=\"colab-df-container\">\n",
              "      <div>\n",
              "<style scoped>\n",
              "    .dataframe tbody tr th:only-of-type {\n",
              "        vertical-align: middle;\n",
              "    }\n",
              "\n",
              "    .dataframe tbody tr th {\n",
              "        vertical-align: top;\n",
              "    }\n",
              "\n",
              "    .dataframe thead th {\n",
              "        text-align: right;\n",
              "    }\n",
              "</style>\n",
              "<table border=\"1\" class=\"dataframe\">\n",
              "  <thead>\n",
              "    <tr style=\"text-align: right;\">\n",
              "      <th></th>\n",
              "      <th>salesforce_contact_id</th>\n",
              "      <th>title</th>\n",
              "      <th>question_id</th>\n",
              "      <th>question_text</th>\n",
              "      <th>response_text</th>\n",
              "      <th>pregunta_final</th>\n",
              "      <th>n_pregunta</th>\n",
              "      <th>question</th>\n",
              "      <th>value</th>\n",
              "    </tr>\n",
              "  </thead>\n",
              "  <tbody>\n",
              "    <tr>\n",
              "      <th>0</th>\n",
              "      <td>0035G00001bFHH0QAO</td>\n",
              "      <td>SG90</td>\n",
              "      <td>601141970</td>\n",
              "      <td>&lt;span style=\"color: #000080;\"&gt;&lt;strong&gt;Pensando...</td>\n",
              "      <td>Desarrollo_de_mi_carrera_profesional_o_laboral</td>\n",
              "      <td>601141970&lt;span style=\"color: #000080;\"&gt;&lt;strong...</td>\n",
              "      <td>1</td>\n",
              "      <td>SG90___P1___Desarrollo_de_mi_carrera_profesion...</td>\n",
              "      <td>1</td>\n",
              "    </tr>\n",
              "    <tr>\n",
              "      <th>1</th>\n",
              "      <td>0035G00001bFIf0QAG</td>\n",
              "      <td>SG60</td>\n",
              "      <td>601036931</td>\n",
              "      <td>&lt;span style=\"color: #000080;\"&gt;&lt;strong&gt;AdemÃ¡s ...</td>\n",
              "      <td>Emprender</td>\n",
              "      <td>601036931&lt;span style=\"color: #000080;\"&gt;&lt;strong...</td>\n",
              "      <td>2</td>\n",
              "      <td>SG60___P2___Emprender</td>\n",
              "      <td>1</td>\n",
              "    </tr>\n",
              "    <tr>\n",
              "      <th>2</th>\n",
              "      <td>0035G00001bFIf0QAG</td>\n",
              "      <td>SG60</td>\n",
              "      <td>601036930</td>\n",
              "      <td>&lt;span style=\"color: #000080;\"&gt;&lt;strong&gt;Pensando...</td>\n",
              "      <td>Hacer_crecer_mi_negocio</td>\n",
              "      <td>601036930&lt;span style=\"color: #000080;\"&gt;&lt;strong...</td>\n",
              "      <td>1</td>\n",
              "      <td>SG60___P1___Hacer_crecer_mi_negocio</td>\n",
              "      <td>1</td>\n",
              "    </tr>\n",
              "    <tr>\n",
              "      <th>3</th>\n",
              "      <td>0035G00001bFIf0QAG</td>\n",
              "      <td>SG60</td>\n",
              "      <td>601036932</td>\n",
              "      <td>&lt;span style=\"color: #000080;\"&gt;&lt;strong&gt;En relac...</td>\n",
              "      <td>Incrementar_los_ingresos_de_mi_empresa_o_negoc...</td>\n",
              "      <td>601036932&lt;span style=\"color: #000080;\"&gt;&lt;strong...</td>\n",
              "      <td>3</td>\n",
              "      <td>SG60___P3___Incrementar_los_ingresos_de_mi_emp...</td>\n",
              "      <td>1</td>\n",
              "    </tr>\n",
              "    <tr>\n",
              "      <th>4</th>\n",
              "      <td>0035G00001bFHH0QAO</td>\n",
              "      <td>SG90</td>\n",
              "      <td>601141971</td>\n",
              "      <td>&lt;span style=\"color: #000080;\"&gt;&lt;strong&gt;AdemÃ¡s ...</td>\n",
              "      <td>Desarrollo_de_mi_carrera_profesional_o_laboral</td>\n",
              "      <td>601141971&lt;span style=\"color: #000080;\"&gt;&lt;strong...</td>\n",
              "      <td>2</td>\n",
              "      <td>SG90___P2___Desarrollo_de_mi_carrera_profesion...</td>\n",
              "      <td>1</td>\n",
              "    </tr>\n",
              "  </tbody>\n",
              "</table>\n",
              "</div>\n",
              "      <button class=\"colab-df-convert\" onclick=\"convertToInteractive('df-84c5cdfe-8086-4af1-bed3-695a9deddc2b')\"\n",
              "              title=\"Convert this dataframe to an interactive table.\"\n",
              "              style=\"display:none;\">\n",
              "        \n",
              "  <svg xmlns=\"http://www.w3.org/2000/svg\" height=\"24px\"viewBox=\"0 0 24 24\"\n",
              "       width=\"24px\">\n",
              "    <path d=\"M0 0h24v24H0V0z\" fill=\"none\"/>\n",
              "    <path d=\"M18.56 5.44l.94 2.06.94-2.06 2.06-.94-2.06-.94-.94-2.06-.94 2.06-2.06.94zm-11 1L8.5 8.5l.94-2.06 2.06-.94-2.06-.94L8.5 2.5l-.94 2.06-2.06.94zm10 10l.94 2.06.94-2.06 2.06-.94-2.06-.94-.94-2.06-.94 2.06-2.06.94z\"/><path d=\"M17.41 7.96l-1.37-1.37c-.4-.4-.92-.59-1.43-.59-.52 0-1.04.2-1.43.59L10.3 9.45l-7.72 7.72c-.78.78-.78 2.05 0 2.83L4 21.41c.39.39.9.59 1.41.59.51 0 1.02-.2 1.41-.59l7.78-7.78 2.81-2.81c.8-.78.8-2.07 0-2.86zM5.41 20L4 18.59l7.72-7.72 1.47 1.35L5.41 20z\"/>\n",
              "  </svg>\n",
              "      </button>\n",
              "      \n",
              "  <style>\n",
              "    .colab-df-container {\n",
              "      display:flex;\n",
              "      flex-wrap:wrap;\n",
              "      gap: 12px;\n",
              "    }\n",
              "\n",
              "    .colab-df-convert {\n",
              "      background-color: #E8F0FE;\n",
              "      border: none;\n",
              "      border-radius: 50%;\n",
              "      cursor: pointer;\n",
              "      display: none;\n",
              "      fill: #1967D2;\n",
              "      height: 32px;\n",
              "      padding: 0 0 0 0;\n",
              "      width: 32px;\n",
              "    }\n",
              "\n",
              "    .colab-df-convert:hover {\n",
              "      background-color: #E2EBFA;\n",
              "      box-shadow: 0px 1px 2px rgba(60, 64, 67, 0.3), 0px 1px 3px 1px rgba(60, 64, 67, 0.15);\n",
              "      fill: #174EA6;\n",
              "    }\n",
              "\n",
              "    [theme=dark] .colab-df-convert {\n",
              "      background-color: #3B4455;\n",
              "      fill: #D2E3FC;\n",
              "    }\n",
              "\n",
              "    [theme=dark] .colab-df-convert:hover {\n",
              "      background-color: #434B5C;\n",
              "      box-shadow: 0px 1px 3px 1px rgba(0, 0, 0, 0.15);\n",
              "      filter: drop-shadow(0px 1px 2px rgba(0, 0, 0, 0.3));\n",
              "      fill: #FFFFFF;\n",
              "    }\n",
              "  </style>\n",
              "\n",
              "      <script>\n",
              "        const buttonEl =\n",
              "          document.querySelector('#df-84c5cdfe-8086-4af1-bed3-695a9deddc2b button.colab-df-convert');\n",
              "        buttonEl.style.display =\n",
              "          google.colab.kernel.accessAllowed ? 'block' : 'none';\n",
              "\n",
              "        async function convertToInteractive(key) {\n",
              "          const element = document.querySelector('#df-84c5cdfe-8086-4af1-bed3-695a9deddc2b');\n",
              "          const dataTable =\n",
              "            await google.colab.kernel.invokeFunction('convertToInteractive',\n",
              "                                                     [key], {});\n",
              "          if (!dataTable) return;\n",
              "\n",
              "          const docLinkHtml = 'Like what you see? Visit the ' +\n",
              "            '<a target=\"_blank\" href=https://colab.research.google.com/notebooks/data_table.ipynb>data table notebook</a>'\n",
              "            + ' to learn more about interactive tables.';\n",
              "          element.innerHTML = '';\n",
              "          dataTable['output_type'] = 'display_data';\n",
              "          await google.colab.output.renderOutput(dataTable, element);\n",
              "          const docLink = document.createElement('div');\n",
              "          docLink.innerHTML = docLinkHtml;\n",
              "          element.appendChild(docLink);\n",
              "        }\n",
              "      </script>\n",
              "    </div>\n",
              "  </div>\n",
              "  "
            ],
            "text/plain": [
              "  salesforce_contact_id  ... value\n",
              "0    0035G00001bFHH0QAO  ...     1\n",
              "1    0035G00001bFIf0QAG  ...     1\n",
              "2    0035G00001bFIf0QAG  ...     1\n",
              "3    0035G00001bFIf0QAG  ...     1\n",
              "4    0035G00001bFHH0QAO  ...     1\n",
              "\n",
              "[5 rows x 9 columns]"
            ]
          },
          "metadata": {},
          "execution_count": 478
        }
      ],
      "source": [
        "Encuestas.head()"
      ]
    },
    {
      "cell_type": "code",
      "source": [
        "Encuestas=pd.pivot_table(Encuestas,index='salesforce_contact_id',columns='question',values=['value'],aggfunc='max')"
      ],
      "metadata": {
        "id": "3gx_1vZGHVed"
      },
      "execution_count": null,
      "outputs": []
    },
    {
      "cell_type": "code",
      "source": [
        "Encuestas.columns.name = None\n",
        "Encuestas.index.name = None"
      ],
      "metadata": {
        "id": "tSMovc-vIwyU"
      },
      "execution_count": null,
      "outputs": []
    },
    {
      "cell_type": "code",
      "source": [
        "Encuestas.columns=Encuestas.columns.droplevel()"
      ],
      "metadata": {
        "id": "1-8WWZaRIWad"
      },
      "execution_count": null,
      "outputs": []
    },
    {
      "cell_type": "code",
      "source": [
        "Encuestas=Encuestas.reset_index()"
      ],
      "metadata": {
        "id": "bhDmkkjOKZpz"
      },
      "execution_count": null,
      "outputs": []
    },
    {
      "cell_type": "code",
      "source": [
        "Encuestas=Encuestas.fillna(0)"
      ],
      "metadata": {
        "id": "v1winMw6Lv5u"
      },
      "execution_count": null,
      "outputs": []
    },
    {
      "cell_type": "markdown",
      "metadata": {
        "id": "lHyumb4k7QKO"
      },
      "source": [
        "#Validación y exportación"
      ]
    },
    {
      "cell_type": "code",
      "source": [
        "Encuestas.head()"
      ],
      "metadata": {
        "colab": {
          "base_uri": "https://localhost:8080/",
          "height": 334
        },
        "id": "7Dsu6odHOe58",
        "outputId": "396370ba-0902-4ac5-f5db-12d2a7348c1b"
      },
      "execution_count": null,
      "outputs": [
        {
          "output_type": "execute_result",
          "data": {
            "text/html": [
              "\n",
              "  <div id=\"df-a04b219c-4229-4788-9751-25b394a49480\">\n",
              "    <div class=\"colab-df-container\">\n",
              "      <div>\n",
              "<style scoped>\n",
              "    .dataframe tbody tr th:only-of-type {\n",
              "        vertical-align: middle;\n",
              "    }\n",
              "\n",
              "    .dataframe tbody tr th {\n",
              "        vertical-align: top;\n",
              "    }\n",
              "\n",
              "    .dataframe thead th {\n",
              "        text-align: right;\n",
              "    }\n",
              "</style>\n",
              "<table border=\"1\" class=\"dataframe\">\n",
              "  <thead>\n",
              "    <tr style=\"text-align: right;\">\n",
              "      <th>question</th>\n",
              "      <th>index</th>\n",
              "      <th>EG___P10___ContribuÃ­_en_la_salud_fÃ­sica_y_o_emocional_de_mi_familia___amigos</th>\n",
              "      <th>EG___P10___ContribuÃ­_en_la_salud_fÃ­sica_y_o_emocional_de_mis_clientes</th>\n",
              "      <th>EG___P10___MejorÃ©_mi_salud_fÃ­sica_y_o_emocional</th>\n",
              "      <th>EG___P10___Ninguna_de_las_anteriores</th>\n",
              "      <th>EG___P11___Ligeramente</th>\n",
              "      <th>EG___P11___Mucho</th>\n",
              "      <th>EG___P11___Regular</th>\n",
              "      <th>EG___P12___Me_ha_hecho_sentir_algo_confiado(a)_en_mis_habilidades</th>\n",
              "      <th>EG___P12___Me_ha_hecho_sentir_mÃ¡s_confiado(a)_en_mis_habilidades</th>\n",
              "      <th>EG___P12___No_me_ha_hecho_sentir_confiado(a)_en_mis_habilidades</th>\n",
              "      <th>EG___P13___Actividades_prÃ¡cticas</th>\n",
              "      <th>EG___P13___Clases_en_vivo</th>\n",
              "      <th>EG___P13___Comunidad_Foro</th>\n",
              "      <th>EG___P13___Contenido_Temario</th>\n",
              "      <th>EG___P13___Recursos_educativos:_videos,_descargables,_audios,_etc.</th>\n",
              "      <th>EG___P13___RetroalimentaciÃ³n_de_los_docentes</th>\n",
              "      <th>EG___P14___Acceso_de_por_vida_al_material_(videos_y_descargables)_del_diplomado_que_cursaste</th>\n",
              "      <th>EG___P14___Clases_grabadas_en_video,_sobre_temas_de_tu_interÃ©s</th>\n",
              "      <th>EG___P14___Comunidad_de_estudiantes,_egresados_y_docentes</th>\n",
              "      <th>EG___P14___RetroalimentaciÃ³n_de_los_docentes</th>\n",
              "      <th>EG___P15___Me_diÃ³_mÃ¡s_confianza_para_emprenderÂ</th>\n",
              "      <th>EG___P15___No_me_diÃ³_mÃ¡s_confianza_para_emprenderÂ</th>\n",
              "      <th>EG___P16___Hacer_crecer_mi_negocio</th>\n",
              "      <th>EG___P16___Hobby___Pasatiempo</th>\n",
              "      <th>EG___P17___Hobby___Pasatiempo</th>\n",
              "      <th>EG___P17___Salud___Bienestar_personal</th>\n",
              "      <th>EG___P18___Mejorar_mis_servicios_y_o_productos</th>\n",
              "      <th>EG___P19___IncrementÃ©_los_ingresos_de_mi_empresa_o_negocio_actual</th>\n",
              "      <th>EG___P1___Desarrollo_de_mi_carrera_profesional_o_laboral</th>\n",
              "      <th>EG___P1___Emprender</th>\n",
              "      <th>EG___P1___Hacer_crecer_mi_negocio</th>\n",
              "      <th>EG___P1___Hobby___Pasatiempo</th>\n",
              "      <th>EG___P1___Salud___Bienestar_personal</th>\n",
              "      <th>EG___P20___Ligeramente</th>\n",
              "      <th>EG___P21___Me_ha_hecho_sentir_mÃ¡s_confiado(a)_en_mis_habilidades</th>\n",
              "      <th>EG___P22___Contenido_Temario</th>\n",
              "      <th>EG___P23___Acceso_de_por_vida_al_material_(videos_y_descargables)_del_diplomado_que_cursaste</th>\n",
              "      <th>EG___P23___RetroalimentaciÃ³n_de_los_docentes</th>\n",
              "      <th>EG___P24___Entre_20_y_30_dÃ­asÂ</th>\n",
              "      <th>...</th>\n",
              "      <th>SG90___P10___MejorÃ©_mi_salud_fÃ­sica_y_o_emocional</th>\n",
              "      <th>SG90___P10___Ninguna_de_las_anteriores</th>\n",
              "      <th>SG90___P11___Ligeramente</th>\n",
              "      <th>SG90___P11___Mucho</th>\n",
              "      <th>SG90___P11___Regular</th>\n",
              "      <th>SG90___P1___Desarrollo_de_mi_carrera_profesional_o_laboral</th>\n",
              "      <th>SG90___P1___Emprender</th>\n",
              "      <th>SG90___P1___Hacer_crecer_mi_negocio</th>\n",
              "      <th>SG90___P1___Hobby___Pasatiempo</th>\n",
              "      <th>SG90___P1___Salud___Bienestar_personal</th>\n",
              "      <th>SG90___P2___Desarrollo_de_mi_carrera_profesional_o_laboral</th>\n",
              "      <th>SG90___P2___Emprender</th>\n",
              "      <th>SG90___P2___Hacer_crecer_mi_negocio</th>\n",
              "      <th>SG90___P2___Hobby___Pasatiempo</th>\n",
              "      <th>SG90___P2___Salud___Bienestar_personal</th>\n",
              "      <th>SG90___P3___Incrementar_los_ingresos_de_mi_empresa_o_negocio_actual</th>\n",
              "      <th>SG90___P3___Incrementar_mi_oferta_de_servicios_y_o_productos</th>\n",
              "      <th>SG90___P3___Mejorar_mis_servicios_y_o_productos</th>\n",
              "      <th>SG90___P4___IncrementÃ©_los_ingresos_de_mi_empresa_o_negocio_actual</th>\n",
              "      <th>SG90___P4___IncrementÃ©_mi_oferta_de_servicios_y_o_productos</th>\n",
              "      <th>SG90___P4___MejorÃ©_mis_servicios_y_o_productos</th>\n",
              "      <th>SG90___P4___Ninguna_de_las_anteriores</th>\n",
              "      <th>SG90___P5___Abrir_mi_propia_empresa_o_negocio</th>\n",
              "      <th>SG90___P5___Adquirir_conocimientos_habilidades_para_abrir_mi_empresa_o_negocio_en_un_futuro</th>\n",
              "      <th>SG90___P5___Empezar_a_generar_ingresos_extra</th>\n",
              "      <th>SG90___P6___AbrÃ­_mi_propia_empresa_o_negocio</th>\n",
              "      <th>SG90___P6___AdquirÃ­_conocimientos_habilidades_para_abrir_mi_empresa_o_negocio_en_un_futuro</th>\n",
              "      <th>SG90___P6___EmpecÃ©_a_generar_ingresos_extra</th>\n",
              "      <th>SG90___P6___Ninguna_de_las_anteriores</th>\n",
              "      <th>SG90___P7___Acceder_a_mejores_oportunidades_laborales</th>\n",
              "      <th>SG90___P7___Complementar_mi_formaciÃ³n_profesiÃ³n</th>\n",
              "      <th>SG90___P7___Conseguir_trabajo</th>\n",
              "      <th>SG90___P7___Mejorar_mi_rendimiento_en_mi_empleo_actual</th>\n",
              "      <th>SG90___P8___AccedÃ­_a_mejores_oportunidades_laborales</th>\n",
              "      <th>SG90___P8___ConseguÃ­_trabajo</th>\n",
              "      <th>SG90___P8___MejorÃ©_mi_rendimiento_en_mi_empleo_actual</th>\n",
              "      <th>SG90___P8___Ninguna_de_las_anteriores</th>\n",
              "      <th>SG90___P9___Contribuir_en_la_salud_fÃ­sica_y_o_emocional_de_mi_familia___amigos</th>\n",
              "      <th>SG90___P9___Contribuir_en_la_salud_fÃ­sica_y_o_emocional_de_mis_clientes</th>\n",
              "      <th>SG90___P9___Mejorar_mi_salud_fÃ­sica_y_o_emocional</th>\n",
              "    </tr>\n",
              "  </thead>\n",
              "  <tbody>\n",
              "    <tr>\n",
              "      <th>0</th>\n",
              "      <td>0035G00001ZkSVEQA3</td>\n",
              "      <td>0.0</td>\n",
              "      <td>0.0</td>\n",
              "      <td>0.0</td>\n",
              "      <td>0.0</td>\n",
              "      <td>0.0</td>\n",
              "      <td>0.0</td>\n",
              "      <td>0.0</td>\n",
              "      <td>0.0</td>\n",
              "      <td>0.0</td>\n",
              "      <td>0.0</td>\n",
              "      <td>0.0</td>\n",
              "      <td>0.0</td>\n",
              "      <td>0.0</td>\n",
              "      <td>0.0</td>\n",
              "      <td>0.0</td>\n",
              "      <td>0.0</td>\n",
              "      <td>0.0</td>\n",
              "      <td>0.0</td>\n",
              "      <td>0.0</td>\n",
              "      <td>0.0</td>\n",
              "      <td>0.0</td>\n",
              "      <td>0.0</td>\n",
              "      <td>0.0</td>\n",
              "      <td>0.0</td>\n",
              "      <td>0.0</td>\n",
              "      <td>0.0</td>\n",
              "      <td>0.0</td>\n",
              "      <td>0.0</td>\n",
              "      <td>0.0</td>\n",
              "      <td>0.0</td>\n",
              "      <td>0.0</td>\n",
              "      <td>0.0</td>\n",
              "      <td>0.0</td>\n",
              "      <td>0.0</td>\n",
              "      <td>0.0</td>\n",
              "      <td>0.0</td>\n",
              "      <td>0.0</td>\n",
              "      <td>0.0</td>\n",
              "      <td>0.0</td>\n",
              "      <td>...</td>\n",
              "      <td>0.0</td>\n",
              "      <td>0.0</td>\n",
              "      <td>1.0</td>\n",
              "      <td>0.0</td>\n",
              "      <td>0.0</td>\n",
              "      <td>0.0</td>\n",
              "      <td>1.0</td>\n",
              "      <td>0.0</td>\n",
              "      <td>0.0</td>\n",
              "      <td>0.0</td>\n",
              "      <td>0.0</td>\n",
              "      <td>1.0</td>\n",
              "      <td>0.0</td>\n",
              "      <td>0.0</td>\n",
              "      <td>0.0</td>\n",
              "      <td>0.0</td>\n",
              "      <td>0.0</td>\n",
              "      <td>0.0</td>\n",
              "      <td>0.0</td>\n",
              "      <td>0.0</td>\n",
              "      <td>0.0</td>\n",
              "      <td>0.0</td>\n",
              "      <td>0.0</td>\n",
              "      <td>1.0</td>\n",
              "      <td>0.0</td>\n",
              "      <td>0.0</td>\n",
              "      <td>1.0</td>\n",
              "      <td>0.0</td>\n",
              "      <td>0.0</td>\n",
              "      <td>0.0</td>\n",
              "      <td>0.0</td>\n",
              "      <td>0.0</td>\n",
              "      <td>0.0</td>\n",
              "      <td>0.0</td>\n",
              "      <td>0.0</td>\n",
              "      <td>0.0</td>\n",
              "      <td>0.0</td>\n",
              "      <td>0.0</td>\n",
              "      <td>0.0</td>\n",
              "      <td>0.0</td>\n",
              "    </tr>\n",
              "    <tr>\n",
              "      <th>1</th>\n",
              "      <td>0035G00001ZkSmQQAV</td>\n",
              "      <td>0.0</td>\n",
              "      <td>0.0</td>\n",
              "      <td>0.0</td>\n",
              "      <td>0.0</td>\n",
              "      <td>0.0</td>\n",
              "      <td>0.0</td>\n",
              "      <td>0.0</td>\n",
              "      <td>0.0</td>\n",
              "      <td>0.0</td>\n",
              "      <td>0.0</td>\n",
              "      <td>0.0</td>\n",
              "      <td>0.0</td>\n",
              "      <td>0.0</td>\n",
              "      <td>0.0</td>\n",
              "      <td>0.0</td>\n",
              "      <td>0.0</td>\n",
              "      <td>0.0</td>\n",
              "      <td>0.0</td>\n",
              "      <td>0.0</td>\n",
              "      <td>0.0</td>\n",
              "      <td>0.0</td>\n",
              "      <td>0.0</td>\n",
              "      <td>0.0</td>\n",
              "      <td>0.0</td>\n",
              "      <td>0.0</td>\n",
              "      <td>0.0</td>\n",
              "      <td>0.0</td>\n",
              "      <td>0.0</td>\n",
              "      <td>0.0</td>\n",
              "      <td>0.0</td>\n",
              "      <td>0.0</td>\n",
              "      <td>0.0</td>\n",
              "      <td>0.0</td>\n",
              "      <td>0.0</td>\n",
              "      <td>0.0</td>\n",
              "      <td>0.0</td>\n",
              "      <td>0.0</td>\n",
              "      <td>0.0</td>\n",
              "      <td>0.0</td>\n",
              "      <td>...</td>\n",
              "      <td>0.0</td>\n",
              "      <td>0.0</td>\n",
              "      <td>0.0</td>\n",
              "      <td>0.0</td>\n",
              "      <td>0.0</td>\n",
              "      <td>0.0</td>\n",
              "      <td>0.0</td>\n",
              "      <td>0.0</td>\n",
              "      <td>0.0</td>\n",
              "      <td>0.0</td>\n",
              "      <td>0.0</td>\n",
              "      <td>0.0</td>\n",
              "      <td>0.0</td>\n",
              "      <td>0.0</td>\n",
              "      <td>0.0</td>\n",
              "      <td>0.0</td>\n",
              "      <td>0.0</td>\n",
              "      <td>0.0</td>\n",
              "      <td>0.0</td>\n",
              "      <td>0.0</td>\n",
              "      <td>0.0</td>\n",
              "      <td>0.0</td>\n",
              "      <td>0.0</td>\n",
              "      <td>0.0</td>\n",
              "      <td>0.0</td>\n",
              "      <td>0.0</td>\n",
              "      <td>0.0</td>\n",
              "      <td>0.0</td>\n",
              "      <td>0.0</td>\n",
              "      <td>0.0</td>\n",
              "      <td>0.0</td>\n",
              "      <td>0.0</td>\n",
              "      <td>0.0</td>\n",
              "      <td>0.0</td>\n",
              "      <td>0.0</td>\n",
              "      <td>0.0</td>\n",
              "      <td>0.0</td>\n",
              "      <td>0.0</td>\n",
              "      <td>0.0</td>\n",
              "      <td>0.0</td>\n",
              "    </tr>\n",
              "    <tr>\n",
              "      <th>2</th>\n",
              "      <td>0035G00001ZkTaWQAV</td>\n",
              "      <td>0.0</td>\n",
              "      <td>0.0</td>\n",
              "      <td>0.0</td>\n",
              "      <td>0.0</td>\n",
              "      <td>0.0</td>\n",
              "      <td>0.0</td>\n",
              "      <td>0.0</td>\n",
              "      <td>0.0</td>\n",
              "      <td>0.0</td>\n",
              "      <td>0.0</td>\n",
              "      <td>0.0</td>\n",
              "      <td>0.0</td>\n",
              "      <td>0.0</td>\n",
              "      <td>0.0</td>\n",
              "      <td>0.0</td>\n",
              "      <td>0.0</td>\n",
              "      <td>0.0</td>\n",
              "      <td>0.0</td>\n",
              "      <td>0.0</td>\n",
              "      <td>0.0</td>\n",
              "      <td>0.0</td>\n",
              "      <td>0.0</td>\n",
              "      <td>0.0</td>\n",
              "      <td>0.0</td>\n",
              "      <td>0.0</td>\n",
              "      <td>0.0</td>\n",
              "      <td>0.0</td>\n",
              "      <td>0.0</td>\n",
              "      <td>0.0</td>\n",
              "      <td>0.0</td>\n",
              "      <td>0.0</td>\n",
              "      <td>0.0</td>\n",
              "      <td>0.0</td>\n",
              "      <td>0.0</td>\n",
              "      <td>0.0</td>\n",
              "      <td>0.0</td>\n",
              "      <td>0.0</td>\n",
              "      <td>0.0</td>\n",
              "      <td>0.0</td>\n",
              "      <td>...</td>\n",
              "      <td>0.0</td>\n",
              "      <td>0.0</td>\n",
              "      <td>0.0</td>\n",
              "      <td>0.0</td>\n",
              "      <td>1.0</td>\n",
              "      <td>0.0</td>\n",
              "      <td>0.0</td>\n",
              "      <td>1.0</td>\n",
              "      <td>0.0</td>\n",
              "      <td>0.0</td>\n",
              "      <td>0.0</td>\n",
              "      <td>0.0</td>\n",
              "      <td>0.0</td>\n",
              "      <td>0.0</td>\n",
              "      <td>0.0</td>\n",
              "      <td>1.0</td>\n",
              "      <td>0.0</td>\n",
              "      <td>0.0</td>\n",
              "      <td>0.0</td>\n",
              "      <td>1.0</td>\n",
              "      <td>0.0</td>\n",
              "      <td>0.0</td>\n",
              "      <td>0.0</td>\n",
              "      <td>0.0</td>\n",
              "      <td>0.0</td>\n",
              "      <td>0.0</td>\n",
              "      <td>0.0</td>\n",
              "      <td>0.0</td>\n",
              "      <td>0.0</td>\n",
              "      <td>0.0</td>\n",
              "      <td>0.0</td>\n",
              "      <td>0.0</td>\n",
              "      <td>0.0</td>\n",
              "      <td>0.0</td>\n",
              "      <td>0.0</td>\n",
              "      <td>0.0</td>\n",
              "      <td>0.0</td>\n",
              "      <td>0.0</td>\n",
              "      <td>0.0</td>\n",
              "      <td>0.0</td>\n",
              "    </tr>\n",
              "    <tr>\n",
              "      <th>3</th>\n",
              "      <td>0035G00001ZkWY9QAN</td>\n",
              "      <td>0.0</td>\n",
              "      <td>0.0</td>\n",
              "      <td>1.0</td>\n",
              "      <td>0.0</td>\n",
              "      <td>0.0</td>\n",
              "      <td>0.0</td>\n",
              "      <td>0.0</td>\n",
              "      <td>0.0</td>\n",
              "      <td>1.0</td>\n",
              "      <td>0.0</td>\n",
              "      <td>1.0</td>\n",
              "      <td>0.0</td>\n",
              "      <td>0.0</td>\n",
              "      <td>1.0</td>\n",
              "      <td>1.0</td>\n",
              "      <td>0.0</td>\n",
              "      <td>1.0</td>\n",
              "      <td>0.0</td>\n",
              "      <td>0.0</td>\n",
              "      <td>0.0</td>\n",
              "      <td>0.0</td>\n",
              "      <td>0.0</td>\n",
              "      <td>0.0</td>\n",
              "      <td>0.0</td>\n",
              "      <td>0.0</td>\n",
              "      <td>0.0</td>\n",
              "      <td>0.0</td>\n",
              "      <td>0.0</td>\n",
              "      <td>0.0</td>\n",
              "      <td>0.0</td>\n",
              "      <td>0.0</td>\n",
              "      <td>0.0</td>\n",
              "      <td>1.0</td>\n",
              "      <td>0.0</td>\n",
              "      <td>0.0</td>\n",
              "      <td>0.0</td>\n",
              "      <td>0.0</td>\n",
              "      <td>0.0</td>\n",
              "      <td>0.0</td>\n",
              "      <td>...</td>\n",
              "      <td>0.0</td>\n",
              "      <td>0.0</td>\n",
              "      <td>0.0</td>\n",
              "      <td>0.0</td>\n",
              "      <td>0.0</td>\n",
              "      <td>0.0</td>\n",
              "      <td>0.0</td>\n",
              "      <td>0.0</td>\n",
              "      <td>0.0</td>\n",
              "      <td>0.0</td>\n",
              "      <td>0.0</td>\n",
              "      <td>0.0</td>\n",
              "      <td>0.0</td>\n",
              "      <td>0.0</td>\n",
              "      <td>0.0</td>\n",
              "      <td>0.0</td>\n",
              "      <td>0.0</td>\n",
              "      <td>0.0</td>\n",
              "      <td>0.0</td>\n",
              "      <td>0.0</td>\n",
              "      <td>0.0</td>\n",
              "      <td>0.0</td>\n",
              "      <td>0.0</td>\n",
              "      <td>0.0</td>\n",
              "      <td>0.0</td>\n",
              "      <td>0.0</td>\n",
              "      <td>0.0</td>\n",
              "      <td>0.0</td>\n",
              "      <td>0.0</td>\n",
              "      <td>0.0</td>\n",
              "      <td>0.0</td>\n",
              "      <td>0.0</td>\n",
              "      <td>0.0</td>\n",
              "      <td>0.0</td>\n",
              "      <td>0.0</td>\n",
              "      <td>0.0</td>\n",
              "      <td>0.0</td>\n",
              "      <td>0.0</td>\n",
              "      <td>0.0</td>\n",
              "      <td>0.0</td>\n",
              "    </tr>\n",
              "    <tr>\n",
              "      <th>4</th>\n",
              "      <td>0035G00001ZkYU7QAN</td>\n",
              "      <td>0.0</td>\n",
              "      <td>0.0</td>\n",
              "      <td>0.0</td>\n",
              "      <td>0.0</td>\n",
              "      <td>0.0</td>\n",
              "      <td>0.0</td>\n",
              "      <td>0.0</td>\n",
              "      <td>0.0</td>\n",
              "      <td>0.0</td>\n",
              "      <td>0.0</td>\n",
              "      <td>0.0</td>\n",
              "      <td>0.0</td>\n",
              "      <td>0.0</td>\n",
              "      <td>0.0</td>\n",
              "      <td>0.0</td>\n",
              "      <td>0.0</td>\n",
              "      <td>0.0</td>\n",
              "      <td>0.0</td>\n",
              "      <td>0.0</td>\n",
              "      <td>0.0</td>\n",
              "      <td>0.0</td>\n",
              "      <td>0.0</td>\n",
              "      <td>0.0</td>\n",
              "      <td>0.0</td>\n",
              "      <td>0.0</td>\n",
              "      <td>0.0</td>\n",
              "      <td>0.0</td>\n",
              "      <td>0.0</td>\n",
              "      <td>0.0</td>\n",
              "      <td>0.0</td>\n",
              "      <td>0.0</td>\n",
              "      <td>0.0</td>\n",
              "      <td>0.0</td>\n",
              "      <td>0.0</td>\n",
              "      <td>0.0</td>\n",
              "      <td>0.0</td>\n",
              "      <td>0.0</td>\n",
              "      <td>0.0</td>\n",
              "      <td>0.0</td>\n",
              "      <td>...</td>\n",
              "      <td>1.0</td>\n",
              "      <td>0.0</td>\n",
              "      <td>0.0</td>\n",
              "      <td>0.0</td>\n",
              "      <td>0.0</td>\n",
              "      <td>0.0</td>\n",
              "      <td>0.0</td>\n",
              "      <td>0.0</td>\n",
              "      <td>0.0</td>\n",
              "      <td>1.0</td>\n",
              "      <td>0.0</td>\n",
              "      <td>1.0</td>\n",
              "      <td>0.0</td>\n",
              "      <td>0.0</td>\n",
              "      <td>0.0</td>\n",
              "      <td>0.0</td>\n",
              "      <td>0.0</td>\n",
              "      <td>0.0</td>\n",
              "      <td>0.0</td>\n",
              "      <td>0.0</td>\n",
              "      <td>0.0</td>\n",
              "      <td>0.0</td>\n",
              "      <td>0.0</td>\n",
              "      <td>0.0</td>\n",
              "      <td>0.0</td>\n",
              "      <td>0.0</td>\n",
              "      <td>0.0</td>\n",
              "      <td>0.0</td>\n",
              "      <td>0.0</td>\n",
              "      <td>0.0</td>\n",
              "      <td>0.0</td>\n",
              "      <td>0.0</td>\n",
              "      <td>0.0</td>\n",
              "      <td>0.0</td>\n",
              "      <td>0.0</td>\n",
              "      <td>0.0</td>\n",
              "      <td>0.0</td>\n",
              "      <td>0.0</td>\n",
              "      <td>0.0</td>\n",
              "      <td>1.0</td>\n",
              "    </tr>\n",
              "  </tbody>\n",
              "</table>\n",
              "<p>5 rows × 234 columns</p>\n",
              "</div>\n",
              "      <button class=\"colab-df-convert\" onclick=\"convertToInteractive('df-a04b219c-4229-4788-9751-25b394a49480')\"\n",
              "              title=\"Convert this dataframe to an interactive table.\"\n",
              "              style=\"display:none;\">\n",
              "        \n",
              "  <svg xmlns=\"http://www.w3.org/2000/svg\" height=\"24px\"viewBox=\"0 0 24 24\"\n",
              "       width=\"24px\">\n",
              "    <path d=\"M0 0h24v24H0V0z\" fill=\"none\"/>\n",
              "    <path d=\"M18.56 5.44l.94 2.06.94-2.06 2.06-.94-2.06-.94-.94-2.06-.94 2.06-2.06.94zm-11 1L8.5 8.5l.94-2.06 2.06-.94-2.06-.94L8.5 2.5l-.94 2.06-2.06.94zm10 10l.94 2.06.94-2.06 2.06-.94-2.06-.94-.94-2.06-.94 2.06-2.06.94z\"/><path d=\"M17.41 7.96l-1.37-1.37c-.4-.4-.92-.59-1.43-.59-.52 0-1.04.2-1.43.59L10.3 9.45l-7.72 7.72c-.78.78-.78 2.05 0 2.83L4 21.41c.39.39.9.59 1.41.59.51 0 1.02-.2 1.41-.59l7.78-7.78 2.81-2.81c.8-.78.8-2.07 0-2.86zM5.41 20L4 18.59l7.72-7.72 1.47 1.35L5.41 20z\"/>\n",
              "  </svg>\n",
              "      </button>\n",
              "      \n",
              "  <style>\n",
              "    .colab-df-container {\n",
              "      display:flex;\n",
              "      flex-wrap:wrap;\n",
              "      gap: 12px;\n",
              "    }\n",
              "\n",
              "    .colab-df-convert {\n",
              "      background-color: #E8F0FE;\n",
              "      border: none;\n",
              "      border-radius: 50%;\n",
              "      cursor: pointer;\n",
              "      display: none;\n",
              "      fill: #1967D2;\n",
              "      height: 32px;\n",
              "      padding: 0 0 0 0;\n",
              "      width: 32px;\n",
              "    }\n",
              "\n",
              "    .colab-df-convert:hover {\n",
              "      background-color: #E2EBFA;\n",
              "      box-shadow: 0px 1px 2px rgba(60, 64, 67, 0.3), 0px 1px 3px 1px rgba(60, 64, 67, 0.15);\n",
              "      fill: #174EA6;\n",
              "    }\n",
              "\n",
              "    [theme=dark] .colab-df-convert {\n",
              "      background-color: #3B4455;\n",
              "      fill: #D2E3FC;\n",
              "    }\n",
              "\n",
              "    [theme=dark] .colab-df-convert:hover {\n",
              "      background-color: #434B5C;\n",
              "      box-shadow: 0px 1px 3px 1px rgba(0, 0, 0, 0.15);\n",
              "      filter: drop-shadow(0px 1px 2px rgba(0, 0, 0, 0.3));\n",
              "      fill: #FFFFFF;\n",
              "    }\n",
              "  </style>\n",
              "\n",
              "      <script>\n",
              "        const buttonEl =\n",
              "          document.querySelector('#df-a04b219c-4229-4788-9751-25b394a49480 button.colab-df-convert');\n",
              "        buttonEl.style.display =\n",
              "          google.colab.kernel.accessAllowed ? 'block' : 'none';\n",
              "\n",
              "        async function convertToInteractive(key) {\n",
              "          const element = document.querySelector('#df-a04b219c-4229-4788-9751-25b394a49480');\n",
              "          const dataTable =\n",
              "            await google.colab.kernel.invokeFunction('convertToInteractive',\n",
              "                                                     [key], {});\n",
              "          if (!dataTable) return;\n",
              "\n",
              "          const docLinkHtml = 'Like what you see? Visit the ' +\n",
              "            '<a target=\"_blank\" href=https://colab.research.google.com/notebooks/data_table.ipynb>data table notebook</a>'\n",
              "            + ' to learn more about interactive tables.';\n",
              "          element.innerHTML = '';\n",
              "          dataTable['output_type'] = 'display_data';\n",
              "          await google.colab.output.renderOutput(dataTable, element);\n",
              "          const docLink = document.createElement('div');\n",
              "          docLink.innerHTML = docLinkHtml;\n",
              "          element.appendChild(docLink);\n",
              "        }\n",
              "      </script>\n",
              "    </div>\n",
              "  </div>\n",
              "  "
            ],
            "text/plain": [
              "question               index  ...  SG90___P9___Mejorar_mi_salud_fÃ­sica_y_o_emocional\n",
              "0         0035G00001ZkSVEQA3  ...                                                0.0 \n",
              "1         0035G00001ZkSmQQAV  ...                                                0.0 \n",
              "2         0035G00001ZkTaWQAV  ...                                                0.0 \n",
              "3         0035G00001ZkWY9QAN  ...                                                0.0 \n",
              "4         0035G00001ZkYU7QAN  ...                                                1.0 \n",
              "\n",
              "[5 rows x 234 columns]"
            ]
          },
          "metadata": {},
          "execution_count": 484
        }
      ]
    },
    {
      "cell_type": "code",
      "execution_count": null,
      "metadata": {
        "id": "DfTBPvNtPUxT"
      },
      "outputs": [],
      "source": [
        "Encuestas.to_csv('/content/drive/MyDrive/Encuestas/Encuestas_Resultado.csv', sep=',', encoding = \"ISO-8859-1\", index = False)"
      ]
    },
    {
      "cell_type": "code",
      "execution_count": null,
      "metadata": {
        "id": "uBRrOCgu8SWg"
      },
      "outputs": [],
      "source": [
        ""
      ]
    }
  ],
  "metadata": {
    "colab": {
      "name": "Encuestas de Seguimiento.ipynb",
      "provenance": [],
      "include_colab_link": true
    },
    "kernelspec": {
      "display_name": "Python 3",
      "name": "python3"
    },
    "language_info": {
      "name": "python"
    }
  },
  "nbformat": 4,
  "nbformat_minor": 0
}